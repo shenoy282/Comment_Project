{
 "cells": [
  {
   "cell_type": "code",
   "execution_count": 86,
   "metadata": {
    "collapsed": false
   },
   "outputs": [
   ],
   "source": [
    "import csv"
   ]
  },
  {
   "cell_type": "code",
   "execution_count": 87,
   "metadata": {
    "collapsed": false
   },
   "outputs": [
   ],
   "source": [
    "def student_list():\n",
    "    '''Reads the student data into a list of lists.'''\n",
    "    stus = []\n",
    "    with open('students.csv') as csvfile:\n",
    "        global header\n",
    "        header = csvfile.readline()\n",
    "        data = csv.reader(csvfile, delimiter=',')\n",
    "        for row in data:\n",
    "            stus.append(row)\n",
    "    return stus"
   ]
  },
  {
   "cell_type": "code",
   "execution_count": 88,
   "metadata": {
    "collapsed": false
   },
   "outputs": [
   ],
   "source": [
    "def attributes(student: list):\n",
    "    '''Takes 3 student attributes and writes about them.'''\n",
    "    return f\"{student[0]} is always {student[10].lower()} in the classroom. {student[0]} displayed {hisher} ability to be {student[11].lower()} whenever {heshe} worked on a group project. In addition, {heshe} always made sure to be {student[12].lower()}.\""
   ]
  },
  {
   "cell_type": "code",
   "execution_count": 89,
   "metadata": {
    "collapsed": false
   },
   "outputs": [
   ],
   "source": [
    "def test(student: list):\n",
    "    '''Takes in average test scores and returns the corresponding sentence regarding their performance on tests.'''\n",
    "    if float(student[7]) >=93:\n",
    "        return f\"{student[0]} demonstrated {hisher} mastery of the material on their tests, earning a {student[7]}% for their overall test grade. {Hisher} diligent preparation was apparent and exceeded expectations.\"\n",
    "    elif float(student[7]) >=87:\n",
    "        return f\"{student[0]} demonstrated their strong understanding of the material on their tests, earning a {student[7]}% for their overall test grade. Though there were often small errors here and there, {hisher} preparation was clear.\"\n",
    "    elif float(student[7]) >=80:\n",
    "        return f\"{student[0]} demonstrated their understanding of the material on their tests, earning a {student[7]}% for their overall test grade. Though there were errors on some problems, {hisher} knowledge of the concepts as a whole met expectations.\"\n",
    "    elif float(student[7]) >=70:\n",
    "        return f\"{student[0]}'s {student[7]}% overall test grade demonstrated their knowledge on many of the concepts that we covered. There were some problems that tripped {himher} up and I encourange {student[0]} to email me or come to my office if {heshe} has any questions.\""
   ]
  },
  {
   "cell_type": "code",
   "execution_count": 90,
   "metadata": {
    "collapsed": false
   },
   "outputs": [
   ],
   "source": [
    "def test_improvement(student: list):\n",
    "    '''Returns an improvement statement if a student has improved by 5 or more points on their final compared to their midterm test.'''\n",
    "    if float(student[8]) >= 5:\n",
    "        return f\"{student[0]} has shown clear improvement over the course of the year and I am proud of {hisher} hard work to grow in a difficult field.\"\n",
    "    return ''"
   ]
  },
  {
   "cell_type": "code",
   "execution_count": 91,
   "metadata": {
    "collapsed": false
   },
   "outputs": [
   ],
   "source": [
    "def quiz(student: list):\n",
    "    '''Takes in average quiz scores and returns the corresponding sentence regarding their performance on quizzes.'''\n",
    "    if int(student[4])>= 93:\n",
    "        return f\"{student[0]}'s work on {hisher} quizzes this semester was above and beyond. {Heshe} demonstrated {hisher} understanding and mastery of the concepts as well as their excellent study skills and attention to detail, earning an extremely well-deserved {student[4]}.\"\n",
    "    if int(student[4]) >= 87:\n",
    "        return f\"{student[0]} did a great job of showing {hisher} understanding of the material. There were a few minor errors, so I would reccomend that {shehe} work on {hisher} attention to detail to make sure that mistakes like these are avoided. {Shehe} earned a {student[4]}.\"\n",
    "    if int(student[4]) >= 80:\n",
    "        return f\"{student[0]} did well on many of the quizzes, earning a {student[4]}, but I would like for {himher} to pay closer attention and come to me with any questions on concepts {heshe} does not understand.\"\n",
    "    if int(student[4]) >= 70:\n",
    "        return f\"{student[0]}'s quiz average this semester was a {student[4]}%, which demonstrated their knowledge of some of the concepts but it was clear that {heshe} was stuck on many of the concepts. I encourage {himher} to email me or come to me with questions before a quiz if {heshe} does not understand the material.\""
   ]
  },
  {
   "cell_type": "code",
   "execution_count": 92,
   "metadata": {
    "collapsed": false
   },
   "outputs": [
   ],
   "source": [
    "def homework(student: list):\n",
    "    '''Takes in a student's homework grade and returns a statement about the homework grade and what they can improve on.'''\n",
    "    if 100 == int(student[13]):\n",
    "        return f'{student[0]} recieved a {student[13]} which was one of the top three homework grades in the class this semester. {Hisher} organization and time-management skills are above and beyond.'\n",
    "    if 95 < int(student[13]) <= 100:\n",
    "        return f'{student[0]} did outstanding work and made sure to complete the all the homework. A few late assignments but {heshe} made sure to finish them later. His/ her homewrok grade was {student[13]}.'\n",
    "    if 90 < int(student[13]) <= 95:\n",
    "        return f'{student[0]} was very diligent in completing the homework. A solid grade of {student[13]}. In the future I would advise {student[0]} to work on getting homework in earlier.'\n",
    "    if 85 < int(student[13]) <= 90:\n",
    "        return f'{student[0]} could improve on completing the homework every night. The work that {heshe} turn in was very insightful, and {heshe} should work towards doing more great work! {student[13]}.'\n",
    "    if 80 < int(student[13]) <= 85:\n",
    "        return f'{student[0]} is having trouble completing the homework every night. I would advise {himher} to reach out more if {heshe} has any questions and ask his/her peers for help. {Hisher} grade is {student[13]}.'\n",
    "    if int(student[13]) <= 80:\n",
    "        return f'{student[0]} is not turning in homework consistently. We need to come up with a plan to allocate time because homework is a crucial part of this class. {Hisher} grade is {student[13]}.'"
   ]
  },
  {
   "cell_type": "code",
   "execution_count": 93,
   "metadata": {
    "collapsed": false
   },
   "outputs": [
   ],
   "source": [
    "def participation(student: list):\n",
    "    '''Takes in a student's participarion grade and returns a statement about the participation grade and what they can do to improve.'''\n",
    "    if int(student[9]) == 100:\n",
    "        return f\"{Hisher} participation was excellent this semester. {Heshe} brought fresh new perspectives to the class and fostered respectful and interesting discussions. I am very pleased with how engaged {heshe} is. {Hisher} participation grade for this semester is {student[9]}.\"\n",
    "    if 99 >= int(student[9]) >= 90:\n",
    "        return f\"{Heshe} participated in class consistently and always offered good ideas to the class. It was clear that {heshe} was engaged with the class and {heshe} always made sure to keep {hisher} ideas relevant to the discussion. {Hisher} participation grade for this semester is {student[9]}.\"\n",
    "    if 90 >= int(student[9]) >= 80:\n",
    "        return f\"{Hisher} participation in class was good but I would like to hear a little bit more of {hisher} contributions and I want to make sure that {heshe} is offering more relevant ideas. {Hisher} participation grade for this semester is {student[9]}.\"\n",
    "    if int(student[9]) < 80:\n",
    "        return f\"{Heshe} participated in class sometimes but I would like to hear {himher} share {hisher} ideas more often. Participation is an important part of the class because it allows me to see how engaged the student is with the class and if they are understanding the material. {Heshe} earned a grade of {student[9]}.\""
   ]
  },
  {
   "cell_type": "code",
   "execution_count": 94,
   "metadata": {
    "collapsed": false
   },
   "outputs": [
   ],
   "source": [
    "# overall grade and corresponding performance in course\n",
    "# owen\n",
    "def overall(student: list):\n",
    "    '''Takes in a student's overall grade and returns a statement about the overall grade and what they can do to improve.'''\n",
    "    grades = {'A': f'Overall, {student[0]} was an amazing student earning an A. {Heshe} displayed {hisher} knowledge of the course content at every turn.', 'A-': f'Overall, {student[0]} was a terrific student earning an A- . {Heshe} displayed {hisher} knowledge of the course content throughout the year.', 'B+': f'Overall, {student[0]} was a great student earning a B+ . {Heshe} displayed {hisher} knowledge of the course content at many points over the course of the year.', 'B': f'Overall, {student[0]} was a good student earning a B. {Heshe} displayed {hisher} knowledge of the course content at many points over the course of the year.', 'B-': f'Overall, {student[0]} was a good student earning a B-. {Heshe} displayed {hisher} knowledge of the basic course concepts throughout the year.', 'C+': f'Overall, {student[0]} was a good student earning a C+. {Heshe} displayed {hisher} knowledge of the basic course concepts at many points during the year', 'C-': f'Overall, {student[0]} was a good student earning a C-. {Heshe} displayed {hisher} knowledge of the basic course concepts a few times during the year, but still could use a bit more practice.'}\n",
    "    return grades[student[3]]"
   ]
  },
  {
   "cell_type": "code",
   "execution_count": 95,
   "metadata": {
    "collapsed": false
   },
   "outputs": [
   ],
   "source": [
    "# describes best of two test grades\n",
    "def best(student: list):\n",
    "    '''Takes in a student's tests scores, finds the best test grade, and returns a statement about it'''\n",
    "    if int(student[5]) > int(student[6]):\n",
    "        return f\"{student[0]}'s best test score was a {student[5]} on the {header.split(',')[5].split(' ')[0]} exam. {Hisher} committment to studying was even more evident than normal and it paid off.\"\n",
    "    else:\n",
    "        return f\"{student[0]}'s best test score was a {student[6]} on the {header.split(',')[6].split(' ')[0]} exam. {Hisher} committment to studying was even more evident than normal and it paid off.\""
   ]
  },
  {
   "cell_type": "code",
   "execution_count": 96,
   "metadata": {
    "collapsed": false
   },
   "outputs": [
   ],
   "source": [
    "# send-off\n",
    "#sonia\n",
    "def summary(student: list):\n",
    "    '''Returns a send off statement based on grade'''\n",
    "    if student[-1] == '12':\n",
    "        return f'I wish you the best in college {student[0]}! OES will miss you deeply. Hopefully this and other classes have been able to prepare you, but for now make sure to come back and visit a few times!'\n",
    "    if student[-1] == '11':\n",
    "        return f'Thanks for your work in this class. Hopefully this class has prepared you for whatever courses you decide to take next year and hope to see you in one of my classes again!'"
   ]
  },
  {
   "cell_type": "code",
   "execution_count": 97,
   "metadata": {
    "collapsed": false
   },
   "outputs": [
   ],
   "source": [
    "# comfortable in which size groups\n",
    "# owen\n",
    "def groups(student: list):\n",
    "    '''Takes in whether or not a student is comfortable in small and large groups and returns the corresponding statement regarding their contributions.'''\n",
    "    if student[14] == 'y':\n",
    "        if student[15] == 'y':\n",
    "            return f'{student[0]} was comfortable in both small and large groups which greatly contributed to class dialogue. Keep up the great work!'\n",
    "    if student[14] == 'y':\n",
    "        if student[15] == 'n':\n",
    "            return f'{student[0]} was more comfortable in larger groups. I would encourage {himher} to try to participate more in small groups.'\n",
    "    if student[14] == 'n':\n",
    "        if student[15] == 'y':\n",
    "            return f'{student[0]} was more comfortable in smaller groups. I would encourage {himher} to try to participate more in full class discussions.'"
   ]
  },
  {
   "cell_type": "code",
   "execution_count": 83,
   "metadata": {
    "collapsed": false
   },
   "outputs": [
   ],
   "source": [
    "students = student_list()\n",
    "for student in students:\n",
    "    if student[2] == 'f':\n",
    "        heshe = 'she'\n",
    "        Heshe = 'She'\n",
    "        hisher = 'her'\n",
    "        Hisher = 'Her'\n",
    "        himher = 'her'\n",
    "    if student[2] == 'm':\n",
    "        heshe = 'he'\n",
    "        Heshe = 'He'\n",
    "        hisher = 'his'\n",
    "        Hisher = 'His'\n",
    "        himher = 'him'\n",
    "    text = 'In this course, we learned the fundamental skills and content needed to analyze the behavior of objects in motion. The primary language of this field of study is mathematics, so we practiced communication with quantitative information, including statistics, rates of change, and visual representation through graphs. However, physics is more than just a math class -- it is important to realize that the way we use math in this field is shaped by its application to observation, experimentation, and the scientific method.\\n\\n'\n",
    "    text += homework(student) + ' '\n",
    "    text += participation(student) + ' '\n",
    "    text += groups(student) + ' '\n",
    "    text += quiz(student) + ' '\n",
    "    text += best(student) + ' '\n",
    "    text += test(student)\n",
    "    text += test_improvement(student) + '\\n\\n'\n",
    "    text += attributes(student) + ' '\n",
    "    text += overall(student) + ' '\n",
    "    text += summary(student)\n",
    "    with open(f'data/{student[0]}_{student[1]}.txt', 'w') as txt:\n",
    "        txt.write(text)"
   ]
  },
  {
   "cell_type": "code",
   "execution_count": 0,
   "metadata": {
    "collapsed": false
   },
   "outputs": [
   ],
   "source": [
   ]
  }
 ],
 "metadata": {
  "kernelspec": {
   "display_name": "Python 3 (system-wide)",
   "language": "python",
   "metadata": {
    "cocalc": {
     "description": "Python 3 programming language",
     "priority": 100,
     "url": "https://www.python.org/"
    }
   },
   "name": "python3",
   "resource_dir": "/ext/jupyter/kernels/python3"
  },
  "language_info": {
   "codemirror_mode": {
    "name": "ipython",
    "version": 3
   },
   "file_extension": ".py",
   "mimetype": "text/x-python",
   "name": "python",
   "nbconvert_exporter": "python",
   "pygments_lexer": "ipython3",
   "version": "3.8.5"
  }
 },
 "nbformat": 4,
 "nbformat_minor": 4
}